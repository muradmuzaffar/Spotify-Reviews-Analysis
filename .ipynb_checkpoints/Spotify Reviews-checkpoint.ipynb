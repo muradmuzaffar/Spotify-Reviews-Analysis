{
 "cells": [
  {
   "cell_type": "code",
   "execution_count": 1,
   "id": "2d474e91",
   "metadata": {},
   "outputs": [],
   "source": [
    "import pandas as pd\n",
    "import numpy as np\n",
    "import nltk\n",
    "from nltk.corpus import stopwords"
   ]
  },
  {
   "cell_type": "code",
   "execution_count": 2,
   "id": "ad7e280a",
   "metadata": {},
   "outputs": [
    {
     "data": {
      "text/html": [
       "<div>\n",
       "<style scoped>\n",
       "    .dataframe tbody tr th:only-of-type {\n",
       "        vertical-align: middle;\n",
       "    }\n",
       "\n",
       "    .dataframe tbody tr th {\n",
       "        vertical-align: top;\n",
       "    }\n",
       "\n",
       "    .dataframe thead th {\n",
       "        text-align: right;\n",
       "    }\n",
       "</style>\n",
       "<table border=\"1\" class=\"dataframe\">\n",
       "  <thead>\n",
       "    <tr style=\"text-align: right;\">\n",
       "      <th></th>\n",
       "      <th>words</th>\n",
       "      <th>counts</th>\n",
       "    </tr>\n",
       "  </thead>\n",
       "  <tbody>\n",
       "    <tr>\n",
       "      <th>0</th>\n",
       "      <td>to</td>\n",
       "      <td>65159</td>\n",
       "    </tr>\n",
       "    <tr>\n",
       "      <th>1</th>\n",
       "      <td>the</td>\n",
       "      <td>64751</td>\n",
       "    </tr>\n",
       "    <tr>\n",
       "      <th>2</th>\n",
       "      <td>I</td>\n",
       "      <td>59824</td>\n",
       "    </tr>\n",
       "    <tr>\n",
       "      <th>3</th>\n",
       "      <td>and</td>\n",
       "      <td>45966</td>\n",
       "    </tr>\n",
       "    <tr>\n",
       "      <th>4</th>\n",
       "      <td>it</td>\n",
       "      <td>34108</td>\n",
       "    </tr>\n",
       "    <tr>\n",
       "      <th>...</th>\n",
       "      <td>...</td>\n",
       "      <td>...</td>\n",
       "    </tr>\n",
       "    <tr>\n",
       "      <th>65556</th>\n",
       "      <td>ffs,</td>\n",
       "      <td>1</td>\n",
       "    </tr>\n",
       "    <tr>\n",
       "      <th>65557</th>\n",
       "      <td>relike</td>\n",
       "      <td>1</td>\n",
       "    </tr>\n",
       "    <tr>\n",
       "      <th>65558</th>\n",
       "      <td>sorrows</td>\n",
       "      <td>1</td>\n",
       "    </tr>\n",
       "    <tr>\n",
       "      <th>65559</th>\n",
       "      <td>song/episode,</td>\n",
       "      <td>1</td>\n",
       "    </tr>\n",
       "    <tr>\n",
       "      <th>65560</th>\n",
       "      <td>wifi/internet</td>\n",
       "      <td>1</td>\n",
       "    </tr>\n",
       "  </tbody>\n",
       "</table>\n",
       "<p>65561 rows × 2 columns</p>\n",
       "</div>"
      ],
      "text/plain": [
       "               words  counts\n",
       "0                 to   65159\n",
       "1                the   64751\n",
       "2                  I   59824\n",
       "3                and   45966\n",
       "4                 it   34108\n",
       "...              ...     ...\n",
       "65556           ffs,       1\n",
       "65557         relike       1\n",
       "65558        sorrows       1\n",
       "65559  song/episode,       1\n",
       "65560  wifi/internet       1\n",
       "\n",
       "[65561 rows x 2 columns]"
      ]
     },
     "execution_count": 2,
     "metadata": {},
     "output_type": "execute_result"
    }
   ],
   "source": [
    "data = pd.read_csv(\"reviews.csv\")\n",
    "data[\"Reply\"].fillna(0,inplace=True)\n",
    "data[\"Number of words\"] = data[\"Review\"].apply(lambda x:  len(x.split()))\n",
    "data[\"Number of characters\"] = data[\"Review\"].apply(lambda x:  len(\"\".join(x.split())))\n",
    "#create term frequency dataframe\n",
    "TF1 = data[\"Review\"].str.split(expand = True).stack().value_counts().reset_index()\n",
    "TF1.columns = [ \"words\",\"counts\" ]\n",
    "TF1"
   ]
  },
  {
   "cell_type": "code",
   "execution_count": 3,
   "id": "f770373d",
   "metadata": {},
   "outputs": [
    {
     "data": {
      "image/png": "[encoded data removed]",
      "text/plain": [
       "<Figure size 432x288 with 1 Axes>"
      ]
     },
     "metadata": {
      "needs_background": "light"
     },
     "output_type": "display_data"
    }
   ],
   "source": [
    "#visualization of data before cleaning\n",
    "\n",
    "#word frequency visualization\n",
    "import matplotlib.pyplot as plt\n",
    "\n",
    "plt.bar(TF1.words[:5],TF1.counts[:5],color ='maroon')\n",
    "plt.title(\"Word frequencies\")\n",
    "plt.xlabel(\"Words\")\n",
    "plt.ylabel(\"Counts\")\n",
    "\n",
    "\n",
    "\n",
    "plt.show()"
   ]
  },
  {
   "cell_type": "code",
   "execution_count": null,
   "id": "1474d3ee",
   "metadata": {},
   "outputs": [],
   "source": [
    "df = data.copy()\n",
    "df = df[[\"Review\" , \"Rating\"]]"
   ]
  },
  {
   "cell_type": "code",
   "execution_count": null,
   "id": "ccf79879",
   "metadata": {},
   "outputs": [],
   "source": [
    "#lowercase conversion\n",
    "df[\"Review\"] = df[\"Review\"].str.lower()"
   ]
  },
  {
   "cell_type": "code",
   "execution_count": null,
   "id": "0b3107ff",
   "metadata": {},
   "outputs": [],
   "source": [
    "#remove punctuations\n",
    "tokenizer = nltk.RegexpTokenizer(r\"\\w+\")\n",
    "df[\"Review\"] = df[\"Review\"].apply(lambda x: \" \".join(tokenizer.tokenize(x)) )"
   ]
  },
  {
   "cell_type": "code",
   "execution_count": null,
   "id": "0878a4a1",
   "metadata": {},
   "outputs": [],
   "source": [
    "#remove stopwords\n",
    "df[\"Review\"] = df[\"Review\"].apply(lambda x: \" \".join(for i in x.split() if i not in stopwords.words('english')) )"
   ]
  },
  {
   "cell_type": "code",
   "execution_count": null,
   "id": "953a6b76",
   "metadata": {},
   "outputs": [],
   "source": []
  },
  {
   "cell_type": "code",
   "execution_count": null,
   "id": "e2963f5e",
   "metadata": {},
   "outputs": [],
   "source": []
  },
  {
   "cell_type": "code",
   "execution_count": null,
   "id": "919b45b9",
   "metadata": {},
   "outputs": [],
   "source": []
  },
  {
   "cell_type": "code",
   "execution_count": null,
   "id": "7230010b",
   "metadata": {},
   "outputs": [],
   "source": []
  },
  {
   "cell_type": "code",
   "execution_count": null,
   "id": "03fc9a00",
   "metadata": {},
   "outputs": [],
   "source": []
  },
  {
   "cell_type": "code",
   "execution_count": null,
   "id": "e6ac0fa9",
   "metadata": {},
   "outputs": [],
   "source": []
  },
  {
   "cell_type": "code",
   "execution_count": null,
   "id": "8244b908",
   "metadata": {},
   "outputs": [],
   "source": []
  },
  {
   "cell_type": "code",
   "execution_count": null,
   "id": "da739117",
   "metadata": {},
   "outputs": [],
   "source": []
  }
 ],
 "metadata": {
  "kernelspec": {
   "display_name": "Python 3 (ipykernel)",
   "language": "python",
   "name": "python3"
  },
  "language_info": {
   "codemirror_mode": {
    "name": "ipython",
    "version": 3
   },
   "file_extension": ".py",
   "mimetype": "text/x-python",
   "name": "python",
   "nbconvert_exporter": "python",
   "pygments_lexer": "ipython3",
   "version": "3.9.1"
  }
 },
 "nbformat": 4,
 "nbformat_minor": 5
}
